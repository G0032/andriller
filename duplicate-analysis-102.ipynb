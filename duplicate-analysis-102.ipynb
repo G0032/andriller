{
 "cells": [
  {
   "cell_type": "code",
   "execution_count": 1,
   "id": "89e62105",
   "metadata": {
    "_cell_guid": "b1076dfc-b9ad-4769-8c92-a6c4dae69d19",
    "_uuid": "8f2839f25d086af736a60e9eeb907d3b93b6e0e5",
    "execution": {
     "iopub.execute_input": "2025-05-28T15:23:48.836454Z",
     "iopub.status.busy": "2025-05-28T15:23:48.835605Z",
     "iopub.status.idle": "2025-05-28T15:23:48.840606Z",
     "shell.execute_reply": "2025-05-28T15:23:48.839862Z"
    },
    "papermill": {
     "duration": 0.011975,
     "end_time": "2025-05-28T15:23:48.841959",
     "exception": false,
     "start_time": "2025-05-28T15:23:48.829984",
     "status": "completed"
    },
    "tags": []
   },
   "outputs": [],
   "source": [
    "# ## Table of Contents\n",
    "# 1. [Dataset Loading and Initial Exploration]\n",
    "# 2. [Data Quality Assessment]\n",
    "# 3. [Basic Duplicate Detection Methods]\n",
    "# 4. [Advanced Duplicate Analysis]\n",
    "# 5. [Risk Scoring Framework]\n",
    "# 6. [Temporal Pattern Analysis]\n",
    "# 7. [Business Rule Implementation]\n",
    "# 8. [Visualization and Reporting]\n",
    "# 9. [Recommendations and Conclusions]"
   ]
  },
  {
   "cell_type": "markdown",
   "id": "163767df",
   "metadata": {
    "papermill": {
     "duration": 0.003192,
     "end_time": "2025-05-28T15:23:48.849002",
     "exception": false,
     "start_time": "2025-05-28T15:23:48.845810",
     "status": "completed"
    },
    "tags": []
   },
   "source": [
    "# Dataset Loading and Initial Exploration"
   ]
  },
  {
   "cell_type": "code",
   "execution_count": 2,
   "id": "e7d445bb",
   "metadata": {
    "execution": {
     "iopub.execute_input": "2025-05-28T15:23:48.856960Z",
     "iopub.status.busy": "2025-05-28T15:23:48.856668Z",
     "iopub.status.idle": "2025-05-28T15:23:53.267777Z",
     "shell.execute_reply": "2025-05-28T15:23:53.266906Z"
    },
    "papermill": {
     "duration": 4.416969,
     "end_time": "2025-05-28T15:23:53.269432",
     "exception": false,
     "start_time": "2025-05-28T15:23:48.852463",
     "status": "completed"
    },
    "tags": []
   },
   "outputs": [],
   "source": [
    "# Load the transaction dataset and perform a basic inspection.\n",
    "import pandas as pd\n",
    "import matplotlib.pyplot as plt\n",
    "import seaborn as sns"
   ]
  },
  {
   "cell_type": "code",
   "execution_count": 3,
   "id": "18fb602a",
   "metadata": {
    "execution": {
     "iopub.execute_input": "2025-05-28T15:23:53.277719Z",
     "iopub.status.busy": "2025-05-28T15:23:53.277306Z",
     "iopub.status.idle": "2025-05-28T15:24:15.240641Z",
     "shell.execute_reply": "2025-05-28T15:24:15.239740Z"
    },
    "papermill": {
     "duration": 21.969227,
     "end_time": "2025-05-28T15:24:15.242232",
     "exception": false,
     "start_time": "2025-05-28T15:23:53.273005",
     "status": "completed"
    },
    "tags": []
   },
   "outputs": [
    {
     "data": {
      "text/html": [
       "<div>\n",
       "<style scoped>\n",
       "    .dataframe tbody tr th:only-of-type {\n",
       "        vertical-align: middle;\n",
       "    }\n",
       "\n",
       "    .dataframe tbody tr th {\n",
       "        vertical-align: top;\n",
       "    }\n",
       "\n",
       "    .dataframe thead th {\n",
       "        text-align: right;\n",
       "    }\n",
       "</style>\n",
       "<table border=\"1\" class=\"dataframe\">\n",
       "  <thead>\n",
       "    <tr style=\"text-align: right;\">\n",
       "      <th></th>\n",
       "      <th>step</th>\n",
       "      <th>type</th>\n",
       "      <th>amount</th>\n",
       "      <th>nameOrig</th>\n",
       "      <th>oldbalanceOrg</th>\n",
       "      <th>newbalanceOrig</th>\n",
       "      <th>nameDest</th>\n",
       "      <th>oldbalanceDest</th>\n",
       "      <th>newbalanceDest</th>\n",
       "      <th>isFraud</th>\n",
       "      <th>isFlaggedFraud</th>\n",
       "    </tr>\n",
       "  </thead>\n",
       "  <tbody>\n",
       "    <tr>\n",
       "      <th>0</th>\n",
       "      <td>1</td>\n",
       "      <td>PAYMENT</td>\n",
       "      <td>9839.64</td>\n",
       "      <td>C1231006815</td>\n",
       "      <td>170136.0</td>\n",
       "      <td>160296.36</td>\n",
       "      <td>M1979787155</td>\n",
       "      <td>0.0</td>\n",
       "      <td>0.0</td>\n",
       "      <td>0</td>\n",
       "      <td>0</td>\n",
       "    </tr>\n",
       "    <tr>\n",
       "      <th>1</th>\n",
       "      <td>1</td>\n",
       "      <td>PAYMENT</td>\n",
       "      <td>1864.28</td>\n",
       "      <td>C1666544295</td>\n",
       "      <td>21249.0</td>\n",
       "      <td>19384.72</td>\n",
       "      <td>M2044282225</td>\n",
       "      <td>0.0</td>\n",
       "      <td>0.0</td>\n",
       "      <td>0</td>\n",
       "      <td>0</td>\n",
       "    </tr>\n",
       "    <tr>\n",
       "      <th>2</th>\n",
       "      <td>1</td>\n",
       "      <td>TRANSFER</td>\n",
       "      <td>181.00</td>\n",
       "      <td>C1305486145</td>\n",
       "      <td>181.0</td>\n",
       "      <td>0.00</td>\n",
       "      <td>C553264065</td>\n",
       "      <td>0.0</td>\n",
       "      <td>0.0</td>\n",
       "      <td>1</td>\n",
       "      <td>0</td>\n",
       "    </tr>\n",
       "    <tr>\n",
       "      <th>3</th>\n",
       "      <td>1</td>\n",
       "      <td>CASH_OUT</td>\n",
       "      <td>181.00</td>\n",
       "      <td>C840083671</td>\n",
       "      <td>181.0</td>\n",
       "      <td>0.00</td>\n",
       "      <td>C38997010</td>\n",
       "      <td>21182.0</td>\n",
       "      <td>0.0</td>\n",
       "      <td>1</td>\n",
       "      <td>0</td>\n",
       "    </tr>\n",
       "    <tr>\n",
       "      <th>4</th>\n",
       "      <td>1</td>\n",
       "      <td>PAYMENT</td>\n",
       "      <td>11668.14</td>\n",
       "      <td>C2048537720</td>\n",
       "      <td>41554.0</td>\n",
       "      <td>29885.86</td>\n",
       "      <td>M1230701703</td>\n",
       "      <td>0.0</td>\n",
       "      <td>0.0</td>\n",
       "      <td>0</td>\n",
       "      <td>0</td>\n",
       "    </tr>\n",
       "  </tbody>\n",
       "</table>\n",
       "</div>"
      ],
      "text/plain": [
       "   step      type    amount     nameOrig  oldbalanceOrg  newbalanceOrig  \\\n",
       "0     1   PAYMENT   9839.64  C1231006815       170136.0       160296.36   \n",
       "1     1   PAYMENT   1864.28  C1666544295        21249.0        19384.72   \n",
       "2     1  TRANSFER    181.00  C1305486145          181.0            0.00   \n",
       "3     1  CASH_OUT    181.00   C840083671          181.0            0.00   \n",
       "4     1   PAYMENT  11668.14  C2048537720        41554.0        29885.86   \n",
       "\n",
       "      nameDest  oldbalanceDest  newbalanceDest  isFraud  isFlaggedFraud  \n",
       "0  M1979787155             0.0             0.0        0               0  \n",
       "1  M2044282225             0.0             0.0        0               0  \n",
       "2   C553264065             0.0             0.0        1               0  \n",
       "3    C38997010         21182.0             0.0        1               0  \n",
       "4  M1230701703             0.0             0.0        0               0  "
      ]
     },
     "execution_count": 3,
     "metadata": {},
     "output_type": "execute_result"
    }
   ],
   "source": [
    "# Load dataset\n",
    "df = pd.read_csv(\"/kaggle/input/paysim1/PS_20174392719_1491204439457_log.csv\")\n",
    "df.head()"
   ]
  },
  {
   "cell_type": "markdown",
   "id": "f7c6a0be",
   "metadata": {
    "papermill": {
     "duration": 0.003414,
     "end_time": "2025-05-28T15:24:15.249575",
     "exception": false,
     "start_time": "2025-05-28T15:24:15.246161",
     "status": "completed"
    },
    "tags": []
   },
   "source": [
    "# Data Quality Assessment"
   ]
  },
  {
   "cell_type": "code",
   "execution_count": 4,
   "id": "a8c976b3",
   "metadata": {
    "execution": {
     "iopub.execute_input": "2025-05-28T15:24:15.258372Z",
     "iopub.status.busy": "2025-05-28T15:24:15.258034Z",
     "iopub.status.idle": "2025-05-28T15:24:36.654105Z",
     "shell.execute_reply": "2025-05-28T15:24:36.653067Z"
    },
    "papermill": {
     "duration": 21.4022,
     "end_time": "2025-05-28T15:24:36.655419",
     "exception": false,
     "start_time": "2025-05-28T15:24:15.253219",
     "status": "completed"
    },
    "tags": []
   },
   "outputs": [
    {
     "name": "stdout",
     "output_type": "stream",
     "text": [
      "<class 'pandas.core.frame.DataFrame'>\n",
      "RangeIndex: 6362620 entries, 0 to 6362619\n",
      "Data columns (total 11 columns):\n",
      " #   Column          Dtype  \n",
      "---  ------          -----  \n",
      " 0   step            int64  \n",
      " 1   type            object \n",
      " 2   amount          float64\n",
      " 3   nameOrig        object \n",
      " 4   oldbalanceOrg   float64\n",
      " 5   newbalanceOrig  float64\n",
      " 6   nameDest        object \n",
      " 7   oldbalanceDest  float64\n",
      " 8   newbalanceDest  float64\n",
      " 9   isFraud         int64  \n",
      " 10  isFlaggedFraud  int64  \n",
      "dtypes: float64(5), int64(3), object(3)\n",
      "memory usage: 534.0+ MB\n",
      "\n",
      "Missing values per column:\n",
      "step              0\n",
      "type              0\n",
      "amount            0\n",
      "nameOrig          0\n",
      "oldbalanceOrg     0\n",
      "newbalanceOrig    0\n",
      "nameDest          0\n",
      "oldbalanceDest    0\n",
      "newbalanceDest    0\n",
      "isFraud           0\n",
      "isFlaggedFraud    0\n",
      "dtype: int64\n"
     ]
    },
    {
     "name": "stderr",
     "output_type": "stream",
     "text": [
      "/usr/local/lib/python3.11/dist-packages/pandas/io/formats/format.py:1458: RuntimeWarning: invalid value encountered in greater\n",
      "  has_large_values = (abs_vals > 1e6).any()\n",
      "/usr/local/lib/python3.11/dist-packages/pandas/io/formats/format.py:1459: RuntimeWarning: invalid value encountered in less\n",
      "  has_small_values = ((abs_vals < 10 ** (-self.digits)) & (abs_vals > 0)).any()\n",
      "/usr/local/lib/python3.11/dist-packages/pandas/io/formats/format.py:1459: RuntimeWarning: invalid value encountered in greater\n",
      "  has_small_values = ((abs_vals < 10 ** (-self.digits)) & (abs_vals > 0)).any()\n"
     ]
    },
    {
     "data": {
      "text/html": [
       "<div>\n",
       "<style scoped>\n",
       "    .dataframe tbody tr th:only-of-type {\n",
       "        vertical-align: middle;\n",
       "    }\n",
       "\n",
       "    .dataframe tbody tr th {\n",
       "        vertical-align: top;\n",
       "    }\n",
       "\n",
       "    .dataframe thead th {\n",
       "        text-align: right;\n",
       "    }\n",
       "</style>\n",
       "<table border=\"1\" class=\"dataframe\">\n",
       "  <thead>\n",
       "    <tr style=\"text-align: right;\">\n",
       "      <th></th>\n",
       "      <th>step</th>\n",
       "      <th>type</th>\n",
       "      <th>amount</th>\n",
       "      <th>nameOrig</th>\n",
       "      <th>oldbalanceOrg</th>\n",
       "      <th>newbalanceOrig</th>\n",
       "      <th>nameDest</th>\n",
       "      <th>oldbalanceDest</th>\n",
       "      <th>newbalanceDest</th>\n",
       "      <th>isFraud</th>\n",
       "      <th>isFlaggedFraud</th>\n",
       "    </tr>\n",
       "  </thead>\n",
       "  <tbody>\n",
       "    <tr>\n",
       "      <th>count</th>\n",
       "      <td>6.362620e+06</td>\n",
       "      <td>6362620</td>\n",
       "      <td>6.362620e+06</td>\n",
       "      <td>6362620</td>\n",
       "      <td>6.362620e+06</td>\n",
       "      <td>6.362620e+06</td>\n",
       "      <td>6362620</td>\n",
       "      <td>6.362620e+06</td>\n",
       "      <td>6.362620e+06</td>\n",
       "      <td>6.362620e+06</td>\n",
       "      <td>6.362620e+06</td>\n",
       "    </tr>\n",
       "    <tr>\n",
       "      <th>unique</th>\n",
       "      <td>NaN</td>\n",
       "      <td>5</td>\n",
       "      <td>NaN</td>\n",
       "      <td>6353307</td>\n",
       "      <td>NaN</td>\n",
       "      <td>NaN</td>\n",
       "      <td>2722362</td>\n",
       "      <td>NaN</td>\n",
       "      <td>NaN</td>\n",
       "      <td>NaN</td>\n",
       "      <td>NaN</td>\n",
       "    </tr>\n",
       "    <tr>\n",
       "      <th>top</th>\n",
       "      <td>NaN</td>\n",
       "      <td>CASH_OUT</td>\n",
       "      <td>NaN</td>\n",
       "      <td>C1902386530</td>\n",
       "      <td>NaN</td>\n",
       "      <td>NaN</td>\n",
       "      <td>C1286084959</td>\n",
       "      <td>NaN</td>\n",
       "      <td>NaN</td>\n",
       "      <td>NaN</td>\n",
       "      <td>NaN</td>\n",
       "    </tr>\n",
       "    <tr>\n",
       "      <th>freq</th>\n",
       "      <td>NaN</td>\n",
       "      <td>2237500</td>\n",
       "      <td>NaN</td>\n",
       "      <td>3</td>\n",
       "      <td>NaN</td>\n",
       "      <td>NaN</td>\n",
       "      <td>113</td>\n",
       "      <td>NaN</td>\n",
       "      <td>NaN</td>\n",
       "      <td>NaN</td>\n",
       "      <td>NaN</td>\n",
       "    </tr>\n",
       "    <tr>\n",
       "      <th>mean</th>\n",
       "      <td>2.433972e+02</td>\n",
       "      <td>NaN</td>\n",
       "      <td>1.798619e+05</td>\n",
       "      <td>NaN</td>\n",
       "      <td>8.338831e+05</td>\n",
       "      <td>8.551137e+05</td>\n",
       "      <td>NaN</td>\n",
       "      <td>1.100702e+06</td>\n",
       "      <td>1.224996e+06</td>\n",
       "      <td>1.290820e-03</td>\n",
       "      <td>2.514687e-06</td>\n",
       "    </tr>\n",
       "    <tr>\n",
       "      <th>std</th>\n",
       "      <td>1.423320e+02</td>\n",
       "      <td>NaN</td>\n",
       "      <td>6.038582e+05</td>\n",
       "      <td>NaN</td>\n",
       "      <td>2.888243e+06</td>\n",
       "      <td>2.924049e+06</td>\n",
       "      <td>NaN</td>\n",
       "      <td>3.399180e+06</td>\n",
       "      <td>3.674129e+06</td>\n",
       "      <td>3.590480e-02</td>\n",
       "      <td>1.585775e-03</td>\n",
       "    </tr>\n",
       "    <tr>\n",
       "      <th>min</th>\n",
       "      <td>1.000000e+00</td>\n",
       "      <td>NaN</td>\n",
       "      <td>0.000000e+00</td>\n",
       "      <td>NaN</td>\n",
       "      <td>0.000000e+00</td>\n",
       "      <td>0.000000e+00</td>\n",
       "      <td>NaN</td>\n",
       "      <td>0.000000e+00</td>\n",
       "      <td>0.000000e+00</td>\n",
       "      <td>0.000000e+00</td>\n",
       "      <td>0.000000e+00</td>\n",
       "    </tr>\n",
       "    <tr>\n",
       "      <th>25%</th>\n",
       "      <td>1.560000e+02</td>\n",
       "      <td>NaN</td>\n",
       "      <td>1.338957e+04</td>\n",
       "      <td>NaN</td>\n",
       "      <td>0.000000e+00</td>\n",
       "      <td>0.000000e+00</td>\n",
       "      <td>NaN</td>\n",
       "      <td>0.000000e+00</td>\n",
       "      <td>0.000000e+00</td>\n",
       "      <td>0.000000e+00</td>\n",
       "      <td>0.000000e+00</td>\n",
       "    </tr>\n",
       "    <tr>\n",
       "      <th>50%</th>\n",
       "      <td>2.390000e+02</td>\n",
       "      <td>NaN</td>\n",
       "      <td>7.487194e+04</td>\n",
       "      <td>NaN</td>\n",
       "      <td>1.420800e+04</td>\n",
       "      <td>0.000000e+00</td>\n",
       "      <td>NaN</td>\n",
       "      <td>1.327057e+05</td>\n",
       "      <td>2.146614e+05</td>\n",
       "      <td>0.000000e+00</td>\n",
       "      <td>0.000000e+00</td>\n",
       "    </tr>\n",
       "    <tr>\n",
       "      <th>75%</th>\n",
       "      <td>3.350000e+02</td>\n",
       "      <td>NaN</td>\n",
       "      <td>2.087215e+05</td>\n",
       "      <td>NaN</td>\n",
       "      <td>1.073152e+05</td>\n",
       "      <td>1.442584e+05</td>\n",
       "      <td>NaN</td>\n",
       "      <td>9.430367e+05</td>\n",
       "      <td>1.111909e+06</td>\n",
       "      <td>0.000000e+00</td>\n",
       "      <td>0.000000e+00</td>\n",
       "    </tr>\n",
       "    <tr>\n",
       "      <th>max</th>\n",
       "      <td>7.430000e+02</td>\n",
       "      <td>NaN</td>\n",
       "      <td>9.244552e+07</td>\n",
       "      <td>NaN</td>\n",
       "      <td>5.958504e+07</td>\n",
       "      <td>4.958504e+07</td>\n",
       "      <td>NaN</td>\n",
       "      <td>3.560159e+08</td>\n",
       "      <td>3.561793e+08</td>\n",
       "      <td>1.000000e+00</td>\n",
       "      <td>1.000000e+00</td>\n",
       "    </tr>\n",
       "  </tbody>\n",
       "</table>\n",
       "</div>"
      ],
      "text/plain": [
       "                step      type        amount     nameOrig  oldbalanceOrg  \\\n",
       "count   6.362620e+06   6362620  6.362620e+06      6362620   6.362620e+06   \n",
       "unique           NaN         5           NaN      6353307            NaN   \n",
       "top              NaN  CASH_OUT           NaN  C1902386530            NaN   \n",
       "freq             NaN   2237500           NaN            3            NaN   \n",
       "mean    2.433972e+02       NaN  1.798619e+05          NaN   8.338831e+05   \n",
       "std     1.423320e+02       NaN  6.038582e+05          NaN   2.888243e+06   \n",
       "min     1.000000e+00       NaN  0.000000e+00          NaN   0.000000e+00   \n",
       "25%     1.560000e+02       NaN  1.338957e+04          NaN   0.000000e+00   \n",
       "50%     2.390000e+02       NaN  7.487194e+04          NaN   1.420800e+04   \n",
       "75%     3.350000e+02       NaN  2.087215e+05          NaN   1.073152e+05   \n",
       "max     7.430000e+02       NaN  9.244552e+07          NaN   5.958504e+07   \n",
       "\n",
       "        newbalanceOrig     nameDest  oldbalanceDest  newbalanceDest  \\\n",
       "count     6.362620e+06      6362620    6.362620e+06    6.362620e+06   \n",
       "unique             NaN      2722362             NaN             NaN   \n",
       "top                NaN  C1286084959             NaN             NaN   \n",
       "freq               NaN          113             NaN             NaN   \n",
       "mean      8.551137e+05          NaN    1.100702e+06    1.224996e+06   \n",
       "std       2.924049e+06          NaN    3.399180e+06    3.674129e+06   \n",
       "min       0.000000e+00          NaN    0.000000e+00    0.000000e+00   \n",
       "25%       0.000000e+00          NaN    0.000000e+00    0.000000e+00   \n",
       "50%       0.000000e+00          NaN    1.327057e+05    2.146614e+05   \n",
       "75%       1.442584e+05          NaN    9.430367e+05    1.111909e+06   \n",
       "max       4.958504e+07          NaN    3.560159e+08    3.561793e+08   \n",
       "\n",
       "             isFraud  isFlaggedFraud  \n",
       "count   6.362620e+06    6.362620e+06  \n",
       "unique           NaN             NaN  \n",
       "top              NaN             NaN  \n",
       "freq             NaN             NaN  \n",
       "mean    1.290820e-03    2.514687e-06  \n",
       "std     3.590480e-02    1.585775e-03  \n",
       "min     0.000000e+00    0.000000e+00  \n",
       "25%     0.000000e+00    0.000000e+00  \n",
       "50%     0.000000e+00    0.000000e+00  \n",
       "75%     0.000000e+00    0.000000e+00  \n",
       "max     1.000000e+00    1.000000e+00  "
      ]
     },
     "execution_count": 4,
     "metadata": {},
     "output_type": "execute_result"
    }
   ],
   "source": [
    "# Check data types, missing values, and summary statistics.\n",
    "df.info()\n",
    "print(\"\\nMissing values per column:\")\n",
    "print(df.isnull().sum())\n",
    "df.describe(include='all')\n"
   ]
  },
  {
   "cell_type": "markdown",
   "id": "bf31915b",
   "metadata": {
    "papermill": {
     "duration": 0.003776,
     "end_time": "2025-05-28T15:24:36.663346",
     "exception": false,
     "start_time": "2025-05-28T15:24:36.659570",
     "status": "completed"
    },
    "tags": []
   },
   "source": [
    "# Basic Duplicate Detection Methods"
   ]
  },
  {
   "cell_type": "code",
   "execution_count": 5,
   "id": "30dee7df",
   "metadata": {
    "execution": {
     "iopub.execute_input": "2025-05-28T15:24:36.672472Z",
     "iopub.status.busy": "2025-05-28T15:24:36.672171Z",
     "iopub.status.idle": "2025-05-28T15:24:49.612097Z",
     "shell.execute_reply": "2025-05-28T15:24:49.611128Z"
    },
    "papermill": {
     "duration": 12.946368,
     "end_time": "2025-05-28T15:24:49.613707",
     "exception": false,
     "start_time": "2025-05-28T15:24:36.667339",
     "status": "completed"
    },
    "tags": []
   },
   "outputs": [
    {
     "name": "stdout",
     "output_type": "stream",
     "text": [
      "Exact duplicates found: 0\n"
     ]
    }
   ],
   "source": [
    "# Search for exact and field-based duplicates.\n",
    "# Check for exact duplicate rows\n",
    "exact_duplicates = df[df.duplicated(keep=False)]\n",
    "print(f\"Exact duplicates found: {exact_duplicates.shape[0]}\")"
   ]
  },
  {
   "cell_type": "code",
   "execution_count": 6,
   "id": "0fa3e4fc",
   "metadata": {
    "execution": {
     "iopub.execute_input": "2025-05-28T15:24:49.623463Z",
     "iopub.status.busy": "2025-05-28T15:24:49.623155Z",
     "iopub.status.idle": "2025-05-28T15:24:57.546200Z",
     "shell.execute_reply": "2025-05-28T15:24:57.545135Z"
    },
    "papermill": {
     "duration": 7.929678,
     "end_time": "2025-05-28T15:24:57.547704",
     "exception": false,
     "start_time": "2025-05-28T15:24:49.618026",
     "status": "completed"
    },
    "tags": []
   },
   "outputs": [
    {
     "name": "stdout",
     "output_type": "stream",
     "text": [
      "Key field duplicates found: 0\n"
     ]
    }
   ],
   "source": [
    "# Check for duplicates using key transaction features\n",
    "if {'nameOrig', 'oldbalanceOrg', 'newbalanceOrig', 'amount'}.issubset(df.columns):\n",
    "    field_dupes = df[df.duplicated(['nameOrig', 'oldbalanceOrg', 'newbalanceOrig', 'amount'], keep=False)]\n",
    "    print(f\"Key field duplicates found: {field_dupes.shape[0]}\")\n",
    "else:\n",
    "    print(\"Some expected fields for duplicate analysis are not in the dataset.\")\n"
   ]
  },
  {
   "cell_type": "markdown",
   "id": "ab052182",
   "metadata": {
    "papermill": {
     "duration": 0.003781,
     "end_time": "2025-05-28T15:24:57.555729",
     "exception": false,
     "start_time": "2025-05-28T15:24:57.551948",
     "status": "completed"
    },
    "tags": []
   },
   "source": [
    "# Advanced Duplicate Analysis"
   ]
  },
  {
   "cell_type": "code",
   "execution_count": 7,
   "id": "0c0326d9",
   "metadata": {
    "execution": {
     "iopub.execute_input": "2025-05-28T15:24:57.565623Z",
     "iopub.status.busy": "2025-05-28T15:24:57.564548Z",
     "iopub.status.idle": "2025-05-28T15:24:58.399038Z",
     "shell.execute_reply": "2025-05-28T15:24:58.398296Z"
    },
    "papermill": {
     "duration": 0.84085,
     "end_time": "2025-05-28T15:24:58.400614",
     "exception": false,
     "start_time": "2025-05-28T15:24:57.559764",
     "status": "completed"
    },
    "tags": []
   },
   "outputs": [],
   "source": [
    "# Detect near duplicates or pattern-based anomalies.\n",
    "from difflib import SequenceMatcher\n",
    "\n",
    "def similarity(a, b):\n",
    "    return SequenceMatcher(None, a, b).ratio()\n",
    "\n",
    "sample_names = df['nameOrig'].dropna().sample(10).tolist()\n",
    "for i in range(len(sample_names)):\n",
    "    for j in range(i + 1, len(sample_names)):\n",
    "        sim_score = similarity(sample_names[i], sample_names[j])\n",
    "        if sim_score > 0.85:\n",
    "            print(f\"Similar accounts: {sample_names[i]} ~ {sample_names[j]} | Score: {sim_score:.2f}\")\n"
   ]
  },
  {
   "cell_type": "markdown",
   "id": "0c2d2d48",
   "metadata": {
    "papermill": {
     "duration": 0.004017,
     "end_time": "2025-05-28T15:24:58.408845",
     "exception": false,
     "start_time": "2025-05-28T15:24:58.404828",
     "status": "completed"
    },
    "tags": []
   },
   "source": [
    "# Risk Scoring Framework"
   ]
  },
  {
   "cell_type": "code",
   "execution_count": 8,
   "id": "e552e346",
   "metadata": {
    "execution": {
     "iopub.execute_input": "2025-05-28T15:24:58.418112Z",
     "iopub.status.busy": "2025-05-28T15:24:58.417776Z",
     "iopub.status.idle": "2025-05-28T15:25:46.330249Z",
     "shell.execute_reply": "2025-05-28T15:25:46.329259Z"
    },
    "papermill": {
     "duration": 47.923637,
     "end_time": "2025-05-28T15:25:46.336454",
     "exception": false,
     "start_time": "2025-05-28T15:24:58.412817",
     "status": "completed"
    },
    "tags": []
   },
   "outputs": [
    {
     "data": {
      "text/html": [
       "<div>\n",
       "<style scoped>\n",
       "    .dataframe tbody tr th:only-of-type {\n",
       "        vertical-align: middle;\n",
       "    }\n",
       "\n",
       "    .dataframe tbody tr th {\n",
       "        vertical-align: top;\n",
       "    }\n",
       "\n",
       "    .dataframe thead th {\n",
       "        text-align: right;\n",
       "    }\n",
       "</style>\n",
       "<table border=\"1\" class=\"dataframe\">\n",
       "  <thead>\n",
       "    <tr style=\"text-align: right;\">\n",
       "      <th></th>\n",
       "      <th>type</th>\n",
       "      <th>amount</th>\n",
       "      <th>risk_score</th>\n",
       "    </tr>\n",
       "  </thead>\n",
       "  <tbody>\n",
       "    <tr>\n",
       "      <th>0</th>\n",
       "      <td>PAYMENT</td>\n",
       "      <td>9839.64</td>\n",
       "      <td>0</td>\n",
       "    </tr>\n",
       "    <tr>\n",
       "      <th>1</th>\n",
       "      <td>PAYMENT</td>\n",
       "      <td>1864.28</td>\n",
       "      <td>0</td>\n",
       "    </tr>\n",
       "    <tr>\n",
       "      <th>2</th>\n",
       "      <td>TRANSFER</td>\n",
       "      <td>181.00</td>\n",
       "      <td>1</td>\n",
       "    </tr>\n",
       "    <tr>\n",
       "      <th>3</th>\n",
       "      <td>CASH_OUT</td>\n",
       "      <td>181.00</td>\n",
       "      <td>1</td>\n",
       "    </tr>\n",
       "    <tr>\n",
       "      <th>4</th>\n",
       "      <td>PAYMENT</td>\n",
       "      <td>11668.14</td>\n",
       "      <td>0</td>\n",
       "    </tr>\n",
       "  </tbody>\n",
       "</table>\n",
       "</div>"
      ],
      "text/plain": [
       "       type    amount  risk_score\n",
       "0   PAYMENT   9839.64           0\n",
       "1   PAYMENT   1864.28           0\n",
       "2  TRANSFER    181.00           1\n",
       "3  CASH_OUT    181.00           1\n",
       "4   PAYMENT  11668.14           0"
      ]
     },
     "execution_count": 8,
     "metadata": {},
     "output_type": "execute_result"
    }
   ],
   "source": [
    "# Assign scores based on amount, transaction type, and time indicators.\n",
    "def assign_risk(row):\n",
    "    score = 0\n",
    "    if row['amount'] > 50000:\n",
    "        score += 2\n",
    "    if row['type'] in ['TRANSFER', 'CASH_OUT']:\n",
    "        score += 1\n",
    "    return score\n",
    "\n",
    "df['risk_score'] = df.apply(assign_risk, axis=1)\n",
    "df[['type', 'amount', 'risk_score']].head()"
   ]
  },
  {
   "cell_type": "markdown",
   "id": "c34f1f46",
   "metadata": {
    "papermill": {
     "duration": 0.004345,
     "end_time": "2025-05-28T15:25:46.345108",
     "exception": false,
     "start_time": "2025-05-28T15:25:46.340763",
     "status": "completed"
    },
    "tags": []
   },
   "source": [
    "# Temporal Pattern Analysis"
   ]
  },
  {
   "cell_type": "code",
   "execution_count": 9,
   "id": "5d43e810",
   "metadata": {
    "execution": {
     "iopub.execute_input": "2025-05-28T15:25:46.354805Z",
     "iopub.status.busy": "2025-05-28T15:25:46.354517Z",
     "iopub.status.idle": "2025-05-28T15:26:39.704857Z",
     "shell.execute_reply": "2025-05-28T15:26:39.703860Z"
    },
    "papermill": {
     "duration": 53.357165,
     "end_time": "2025-05-28T15:26:39.706545",
     "exception": false,
     "start_time": "2025-05-28T15:25:46.349380",
     "status": "completed"
    },
    "tags": []
   },
   "outputs": [],
   "source": [
    "# Analyze time-based patterns to detect rapid repeated transactions.\n",
    "if 'step' in df.columns:\n",
    "    df.sort_values(by=['nameOrig', 'step'], inplace=True)\n",
    "    df['time_diff'] = df.groupby('nameOrig')['step'].diff()\n",
    "    df[['nameOrig', 'step', 'time_diff']].head()\n",
    "else:\n",
    "    print(\"Time-based field 'step' not found in dataset.\")"
   ]
  },
  {
   "cell_type": "markdown",
   "id": "2bc26bc2",
   "metadata": {
    "papermill": {
     "duration": 0.004458,
     "end_time": "2025-05-28T15:26:39.716252",
     "exception": false,
     "start_time": "2025-05-28T15:26:39.711794",
     "status": "completed"
    },
    "tags": []
   },
   "source": [
    "# Business Rule Implementation"
   ]
  },
  {
   "cell_type": "code",
   "execution_count": 10,
   "id": "e5717173",
   "metadata": {
    "execution": {
     "iopub.execute_input": "2025-05-28T15:26:39.726169Z",
     "iopub.status.busy": "2025-05-28T15:26:39.725828Z",
     "iopub.status.idle": "2025-05-28T15:27:24.766220Z",
     "shell.execute_reply": "2025-05-28T15:27:24.765320Z"
    },
    "papermill": {
     "duration": 45.050434,
     "end_time": "2025-05-28T15:27:24.770975",
     "exception": false,
     "start_time": "2025-05-28T15:26:39.720541",
     "status": "completed"
    },
    "tags": []
   },
   "outputs": [
    {
     "data": {
      "text/html": [
       "<div>\n",
       "<style scoped>\n",
       "    .dataframe tbody tr th:only-of-type {\n",
       "        vertical-align: middle;\n",
       "    }\n",
       "\n",
       "    .dataframe tbody tr th {\n",
       "        vertical-align: top;\n",
       "    }\n",
       "\n",
       "    .dataframe thead th {\n",
       "        text-align: right;\n",
       "    }\n",
       "</style>\n",
       "<table border=\"1\" class=\"dataframe\">\n",
       "  <thead>\n",
       "    <tr style=\"text-align: right;\">\n",
       "      <th></th>\n",
       "      <th>step</th>\n",
       "      <th>type</th>\n",
       "      <th>amount</th>\n",
       "      <th>nameOrig</th>\n",
       "      <th>oldbalanceOrg</th>\n",
       "      <th>newbalanceOrig</th>\n",
       "      <th>nameDest</th>\n",
       "      <th>oldbalanceDest</th>\n",
       "      <th>newbalanceDest</th>\n",
       "      <th>isFraud</th>\n",
       "      <th>isFlaggedFraud</th>\n",
       "      <th>risk_score</th>\n",
       "      <th>time_diff</th>\n",
       "      <th>flagged_fraud</th>\n",
       "    </tr>\n",
       "  </thead>\n",
       "  <tbody>\n",
       "    <tr>\n",
       "      <th>2922149</th>\n",
       "      <td>229</td>\n",
       "      <td>TRANSFER</td>\n",
       "      <td>796351.80</td>\n",
       "      <td>C1044884182</td>\n",
       "      <td>906.00</td>\n",
       "      <td>0.00</td>\n",
       "      <td>C1728129856</td>\n",
       "      <td>0.00</td>\n",
       "      <td>796351.80</td>\n",
       "      <td>0</td>\n",
       "      <td>0</td>\n",
       "      <td>3</td>\n",
       "      <td>0.0</td>\n",
       "      <td>True</td>\n",
       "    </tr>\n",
       "    <tr>\n",
       "      <th>2146378</th>\n",
       "      <td>184</td>\n",
       "      <td>CASH_IN</td>\n",
       "      <td>200641.71</td>\n",
       "      <td>C1045313014</td>\n",
       "      <td>9378360.15</td>\n",
       "      <td>9579001.86</td>\n",
       "      <td>C960236924</td>\n",
       "      <td>843974.66</td>\n",
       "      <td>643332.95</td>\n",
       "      <td>0</td>\n",
       "      <td>0</td>\n",
       "      <td>2</td>\n",
       "      <td>1.0</td>\n",
       "      <td>True</td>\n",
       "    </tr>\n",
       "    <tr>\n",
       "      <th>5856588</th>\n",
       "      <td>402</td>\n",
       "      <td>TRANSFER</td>\n",
       "      <td>654191.15</td>\n",
       "      <td>C1061931265</td>\n",
       "      <td>15095.00</td>\n",
       "      <td>0.00</td>\n",
       "      <td>C420576773</td>\n",
       "      <td>0.00</td>\n",
       "      <td>654191.15</td>\n",
       "      <td>0</td>\n",
       "      <td>0</td>\n",
       "      <td>3</td>\n",
       "      <td>0.0</td>\n",
       "      <td>True</td>\n",
       "    </tr>\n",
       "    <tr>\n",
       "      <th>4012955</th>\n",
       "      <td>299</td>\n",
       "      <td>TRANSFER</td>\n",
       "      <td>1234398.59</td>\n",
       "      <td>C1068240459</td>\n",
       "      <td>54909.00</td>\n",
       "      <td>0.00</td>\n",
       "      <td>C2051037280</td>\n",
       "      <td>710999.97</td>\n",
       "      <td>1945398.56</td>\n",
       "      <td>0</td>\n",
       "      <td>0</td>\n",
       "      <td>3</td>\n",
       "      <td>1.0</td>\n",
       "      <td>True</td>\n",
       "    </tr>\n",
       "    <tr>\n",
       "      <th>394692</th>\n",
       "      <td>18</td>\n",
       "      <td>CASH_IN</td>\n",
       "      <td>98843.20</td>\n",
       "      <td>C111557025</td>\n",
       "      <td>11525943.54</td>\n",
       "      <td>11624786.74</td>\n",
       "      <td>C1656503620</td>\n",
       "      <td>4990293.84</td>\n",
       "      <td>4891450.64</td>\n",
       "      <td>0</td>\n",
       "      <td>0</td>\n",
       "      <td>2</td>\n",
       "      <td>1.0</td>\n",
       "      <td>True</td>\n",
       "    </tr>\n",
       "  </tbody>\n",
       "</table>\n",
       "</div>"
      ],
      "text/plain": [
       "         step      type      amount     nameOrig  oldbalanceOrg  \\\n",
       "2922149   229  TRANSFER   796351.80  C1044884182         906.00   \n",
       "2146378   184   CASH_IN   200641.71  C1045313014     9378360.15   \n",
       "5856588   402  TRANSFER   654191.15  C1061931265       15095.00   \n",
       "4012955   299  TRANSFER  1234398.59  C1068240459       54909.00   \n",
       "394692     18   CASH_IN    98843.20   C111557025    11525943.54   \n",
       "\n",
       "         newbalanceOrig     nameDest  oldbalanceDest  newbalanceDest  isFraud  \\\n",
       "2922149            0.00  C1728129856            0.00       796351.80        0   \n",
       "2146378      9579001.86   C960236924       843974.66       643332.95        0   \n",
       "5856588            0.00   C420576773            0.00       654191.15        0   \n",
       "4012955            0.00  C2051037280       710999.97      1945398.56        0   \n",
       "394692      11624786.74  C1656503620      4990293.84      4891450.64        0   \n",
       "\n",
       "         isFlaggedFraud  risk_score  time_diff  flagged_fraud  \n",
       "2922149               0           3        0.0           True  \n",
       "2146378               0           2        1.0           True  \n",
       "5856588               0           3        0.0           True  \n",
       "4012955               0           3        1.0           True  \n",
       "394692                0           2        1.0           True  "
      ]
     },
     "execution_count": 10,
     "metadata": {},
     "output_type": "execute_result"
    }
   ],
   "source": [
    "# Implement simple rules to flag high-risk transactions.\n",
    "def flag_fraud(row):\n",
    "    if row['risk_score'] >= 2 and (pd.notnull(row.get('time_diff')) and row['time_diff'] <= 1):\n",
    "        return True\n",
    "    return False\n",
    "\n",
    "df['flagged_fraud'] = df.apply(flag_fraud, axis=1)\n",
    "df[df['flagged_fraud'] == True].head()"
   ]
  },
  {
   "cell_type": "markdown",
   "id": "3ee3280c",
   "metadata": {
    "papermill": {
     "duration": 0.004092,
     "end_time": "2025-05-28T15:27:24.779469",
     "exception": false,
     "start_time": "2025-05-28T15:27:24.775377",
     "status": "completed"
    },
    "tags": []
   },
   "source": [
    "# Visualization and Reporting"
   ]
  },
  {
   "cell_type": "code",
   "execution_count": 11,
   "id": "e9f29861",
   "metadata": {
    "execution": {
     "iopub.execute_input": "2025-05-28T15:27:24.789258Z",
     "iopub.status.busy": "2025-05-28T15:27:24.788869Z",
     "iopub.status.idle": "2025-05-28T15:27:53.384091Z",
     "shell.execute_reply": "2025-05-28T15:27:53.383130Z"
    },
    "papermill": {
     "duration": 28.601936,
     "end_time": "2025-05-28T15:27:53.385624",
     "exception": false,
     "start_time": "2025-05-28T15:27:24.783688",
     "status": "completed"
    },
    "tags": []
   },
   "outputs": [
    {
     "name": "stderr",
     "output_type": "stream",
     "text": [
      "/usr/local/lib/python3.11/dist-packages/seaborn/_oldcore.py:1119: FutureWarning: use_inf_as_na option is deprecated and will be removed in a future version. Convert inf values to NaN before operating instead.\n",
      "  with pd.option_context('mode.use_inf_as_na', True):\n"
     ]
    },
    {
     "data": {
      "image/png": "[encoded data removed]",
      "text/plain": [
       "<Figure size 640x480 with 1 Axes>"
      ]
     },
     "metadata": {},
     "output_type": "display_data"
    },
    {
     "data": {
      "image/png": "[encoded data removed]",
      "text/plain": [
       "<Figure size 640x480 with 1 Axes>"
      ]
     },
     "metadata": {},
     "output_type": "display_data"
    }
   ],
   "source": [
    "# Visualize transaction patterns and outliers.\n",
    "sns.histplot(df['amount'], bins=50, kde=True)\n",
    "plt.title(\"Transaction Amount Distribution\")\n",
    "plt.xlabel(\"Amount\")\n",
    "plt.ylabel(\"Frequency\")\n",
    "plt.show()\n",
    "\n",
    "#\n",
    "sns.boxplot(x='risk_score', y='amount', data=df)\n",
    "plt.title(\"Risk Score vs Transaction Amount\")\n",
    "plt.show()"
   ]
  },
  {
   "cell_type": "markdown",
   "id": "0308fbde",
   "metadata": {
    "papermill": {
     "duration": 0.00482,
     "end_time": "2025-05-28T15:27:53.395949",
     "exception": false,
     "start_time": "2025-05-28T15:27:53.391129",
     "status": "completed"
    },
    "tags": []
   },
   "source": [
    "# Recommendations and Conclusions"
   ]
  },
  {
   "cell_type": "code",
   "execution_count": 12,
   "id": "0558f93d",
   "metadata": {
    "execution": {
     "iopub.execute_input": "2025-05-28T15:27:53.407151Z",
     "iopub.status.busy": "2025-05-28T15:27:53.406778Z",
     "iopub.status.idle": "2025-05-28T15:27:53.419733Z",
     "shell.execute_reply": "2025-05-28T15:27:53.418879Z"
    },
    "papermill": {
     "duration": 0.02045,
     "end_time": "2025-05-28T15:27:53.421335",
     "exception": false,
     "start_time": "2025-05-28T15:27:53.400885",
     "status": "completed"
    },
    "tags": []
   },
   "outputs": [
    {
     "name": "stdout",
     "output_type": "stream",
     "text": [
      "Total transactions flagged as potential fraud: 64\n",
      "\n",
      "Recommendations:\n",
      "- Monitor high-value and high-frequency transactions.\n",
      "- Investigate accounts with suspicious similarity or behavior.\n",
      "- Implement thresholds and machine learning for automated flagging.\n"
     ]
    }
   ],
   "source": [
    "# Suggestions for enhancing fraud detection processes.\n",
    "print(f\"Total transactions flagged as potential fraud: {df['flagged_fraud'].sum()}\")\n",
    "print(\"\\nRecommendations:\")\n",
    "print(\"- Monitor high-value and high-frequency transactions.\")\n",
    "print(\"- Investigate accounts with suspicious similarity or behavior.\")\n",
    "print(\"- Implement thresholds and machine learning for automated flagging.\")"
   ]
  }
 ],
 "metadata": {
  "kaggle": {
   "accelerator": "none",
   "dataSources": [
    {
     "datasetId": 1069,
     "sourceId": 1940,
     "sourceType": "datasetVersion"
    }
   ],
   "dockerImageVersionId": 31040,
   "isGpuEnabled": false,
   "isInternetEnabled": true,
   "language": "python",
   "sourceType": "notebook"
  },
  "kernelspec": {
   "display_name": "Python 3",
   "language": "python",
   "name": "python3"
  },
  "language_info": {
   "codemirror_mode": {
    "name": "ipython",
    "version": 3
   },
   "file_extension": ".py",
   "mimetype": "text/x-python",
   "name": "python",
   "nbconvert_exporter": "python",
   "pygments_lexer": "ipython3",
   "version": "3.11.11"
  },
  "papermill": {
   "default_parameters": {},
   "duration": 251.517575,
   "end_time": "2025-05-28T15:27:54.949803",
   "environment_variables": {},
   "exception": null,
   "input_path": "__notebook__.ipynb",
   "output_path": "__notebook__.ipynb",
   "parameters": {},
   "start_time": "2025-05-28T15:23:43.432228",
   "version": "2.6.0"
  }
 },
 "nbformat": 4,
 "nbformat_minor": 5
}
